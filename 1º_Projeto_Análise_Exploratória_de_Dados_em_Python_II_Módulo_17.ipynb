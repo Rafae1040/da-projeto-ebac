{
  "nbformat": 4,
  "nbformat_minor": 0,
  "metadata": {
    "colab": {
      "provenance": [],
      "include_colab_link": true
    },
    "kernelspec": {
      "name": "python3",
      "display_name": "Python 3"
    },
    "language_info": {
      "name": "python"
    }
  },
  "cells": [
    {
      "cell_type": "markdown",
      "metadata": {
        "id": "view-in-github",
        "colab_type": "text"
      },
      "source": [
        "<a href=\"https://colab.research.google.com/github/Rafae1040/da-projeto-ebac/blob/main/1%C2%BA_Projeto_An%C3%A1lise_Explorat%C3%B3ria_de_Dados_em_Python_II_M%C3%B3dulo_17.ipynb\" target=\"_parent\"><img src=\"https://colab.research.google.com/assets/colab-badge.svg\" alt=\"Open In Colab\"/></a>"
      ]
    },
    {
      "cell_type": "markdown",
      "source": [
        "Análise Exploratória de Dados de Logística"
      ],
      "metadata": {
        "id": "ieFECgYVWWSc"
      }
    },
    {
      "cell_type": "markdown",
      "source": [
        "1.Contexto"
      ],
      "metadata": {
        "id": "Id26ZcxiWa6X"
      }
    },
    {
      "cell_type": "markdown",
      "source": [
        "Analisaremos com os dados e codigos que serão apresentados para as empresas de logistica otimize a distribuição e a entrega dos produtos aos clientes. Para que as entregas do dia a dia sejam mostradas atraves do inicio da entrega, o destino do produto e a quantidade de entregas realizadas."
      ],
      "metadata": {
        "id": "sVQI91_YWfJo"
      }
    },
    {
      "cell_type": "markdown",
      "source": [
        "2.Pacotes e bibliotecas"
      ],
      "metadata": {
        "id": "M9eeP28xWsoT"
      }
    },
    {
      "cell_type": "code",
      "source": [
        "!pip install wget"
      ],
      "metadata": {
        "colab": {
          "base_uri": "https://localhost:8080/"
        },
        "id": "xvr5N9_HWuhw",
        "outputId": "47e46dde-3a0e-4322-8042-42ac336b12de"
      },
      "execution_count": null,
      "outputs": [
        {
          "output_type": "stream",
          "name": "stdout",
          "text": [
            "Looking in indexes: https://pypi.org/simple, https://us-python.pkg.dev/colab-wheels/public/simple/\n",
            "Requirement already satisfied: wget in /usr/local/lib/python3.8/dist-packages (3.2)\n"
          ]
        }
      ]
    },
    {
      "cell_type": "code",
      "source": [
        "import json\n",
        "import os"
      ],
      "metadata": {
        "id": "osq8ivvpWz1Y"
      },
      "execution_count": null,
      "outputs": []
    },
    {
      "cell_type": "code",
      "source": [
        "import pandas as pd\n",
        "import seaborn as sns"
      ],
      "metadata": {
        "id": "uZnQn9TrW2pQ"
      },
      "execution_count": null,
      "outputs": []
    },
    {
      "cell_type": "markdown",
      "source": [
        "3.Exploração de dados"
      ],
      "metadata": {
        "id": "q8m4KLkGW46s"
      }
    },
    {
      "cell_type": "code",
      "source": [
        "!wget -q \"https://raw.githubusercontent.com/andre-marcos-perez/ebac-course-utils/main/dataset/deliveries.json\" -O deliveries.json"
      ],
      "metadata": {
        "id": "EArNqtODXAyb"
      },
      "execution_count": null,
      "outputs": []
    },
    {
      "cell_type": "code",
      "source": [
        "import json\n",
        "\n",
        "with open('deliveries.json', mode='r', encoding='utf8') as file:\n",
        "  data = json.load(file)"
      ],
      "metadata": {
        "id": "CYQKBwxSXHlQ"
      },
      "execution_count": null,
      "outputs": []
    },
    {
      "cell_type": "code",
      "source": [
        "len(data)"
      ],
      "metadata": {
        "colab": {
          "base_uri": "https://localhost:8080/"
        },
        "id": "OtMu41WLXJin",
        "outputId": "3049ce88-f448-405b-ea71-ecd1a6f3e26c"
      },
      "execution_count": null,
      "outputs": [
        {
          "output_type": "execute_result",
          "data": {
            "text/plain": [
              "199"
            ]
          },
          "metadata": {},
          "execution_count": 31
        }
      ]
    },
    {
      "cell_type": "code",
      "source": [
        "import pandas as pd"
      ],
      "metadata": {
        "id": "ZBXo5efZXLTz"
      },
      "execution_count": null,
      "outputs": []
    },
    {
      "cell_type": "code",
      "source": [
        "deliveries_df = pd.DataFrame(data)"
      ],
      "metadata": {
        "id": "m6RV2v3aXN4w"
      },
      "execution_count": null,
      "outputs": []
    },
    {
      "cell_type": "code",
      "source": [
        "deliveries_df.head()"
      ],
      "metadata": {
        "colab": {
          "base_uri": "https://localhost:8080/",
          "height": 206
        },
        "id": "5-iwjAbpXQBY",
        "outputId": "bafed44c-a903-45d7-dda6-fdae1bbaab5d"
      },
      "execution_count": null,
      "outputs": [
        {
          "output_type": "execute_result",
          "data": {
            "text/plain": [
              "           name region                                             origin  \\\n",
              "0  cvrp-2-df-33   df-2  {'lng': -48.05498915846707, 'lat': -15.8381445...   \n",
              "1  cvrp-2-df-73   df-2  {'lng': -48.05498915846707, 'lat': -15.8381445...   \n",
              "2  cvrp-2-df-20   df-2  {'lng': -48.05498915846707, 'lat': -15.8381445...   \n",
              "3  cvrp-1-df-71   df-1  {'lng': -47.89366206897872, 'lat': -15.8051175...   \n",
              "4  cvrp-2-df-87   df-2  {'lng': -48.05498915846707, 'lat': -15.8381445...   \n",
              "\n",
              "   vehicle_capacity                                         deliveries  \n",
              "0               180  [{'id': '313483a19d2f8d65cd5024c8d215cfbd', 'p...  \n",
              "1               180  [{'id': 'bf3fc630b1c29601a4caf1bdd474b85', 'po...  \n",
              "2               180  [{'id': 'b30f1145a2ba4e0b9ac0162b68d045c3', 'p...  \n",
              "3               180  [{'id': 'be3ed547394196c12c7c27c89ac74ed6', 'p...  \n",
              "4               180  [{'id': 'a6328fb4dc0654eb28a996a270b0f6e4', 'p...  "
            ],
            "text/html": [
              "\n",
              "  <div id=\"df-22a3d9d1-bab7-4527-8553-77b9efe3dd4d\">\n",
              "    <div class=\"colab-df-container\">\n",
              "      <div>\n",
              "<style scoped>\n",
              "    .dataframe tbody tr th:only-of-type {\n",
              "        vertical-align: middle;\n",
              "    }\n",
              "\n",
              "    .dataframe tbody tr th {\n",
              "        vertical-align: top;\n",
              "    }\n",
              "\n",
              "    .dataframe thead th {\n",
              "        text-align: right;\n",
              "    }\n",
              "</style>\n",
              "<table border=\"1\" class=\"dataframe\">\n",
              "  <thead>\n",
              "    <tr style=\"text-align: right;\">\n",
              "      <th></th>\n",
              "      <th>name</th>\n",
              "      <th>region</th>\n",
              "      <th>origin</th>\n",
              "      <th>vehicle_capacity</th>\n",
              "      <th>deliveries</th>\n",
              "    </tr>\n",
              "  </thead>\n",
              "  <tbody>\n",
              "    <tr>\n",
              "      <th>0</th>\n",
              "      <td>cvrp-2-df-33</td>\n",
              "      <td>df-2</td>\n",
              "      <td>{'lng': -48.05498915846707, 'lat': -15.8381445...</td>\n",
              "      <td>180</td>\n",
              "      <td>[{'id': '313483a19d2f8d65cd5024c8d215cfbd', 'p...</td>\n",
              "    </tr>\n",
              "    <tr>\n",
              "      <th>1</th>\n",
              "      <td>cvrp-2-df-73</td>\n",
              "      <td>df-2</td>\n",
              "      <td>{'lng': -48.05498915846707, 'lat': -15.8381445...</td>\n",
              "      <td>180</td>\n",
              "      <td>[{'id': 'bf3fc630b1c29601a4caf1bdd474b85', 'po...</td>\n",
              "    </tr>\n",
              "    <tr>\n",
              "      <th>2</th>\n",
              "      <td>cvrp-2-df-20</td>\n",
              "      <td>df-2</td>\n",
              "      <td>{'lng': -48.05498915846707, 'lat': -15.8381445...</td>\n",
              "      <td>180</td>\n",
              "      <td>[{'id': 'b30f1145a2ba4e0b9ac0162b68d045c3', 'p...</td>\n",
              "    </tr>\n",
              "    <tr>\n",
              "      <th>3</th>\n",
              "      <td>cvrp-1-df-71</td>\n",
              "      <td>df-1</td>\n",
              "      <td>{'lng': -47.89366206897872, 'lat': -15.8051175...</td>\n",
              "      <td>180</td>\n",
              "      <td>[{'id': 'be3ed547394196c12c7c27c89ac74ed6', 'p...</td>\n",
              "    </tr>\n",
              "    <tr>\n",
              "      <th>4</th>\n",
              "      <td>cvrp-2-df-87</td>\n",
              "      <td>df-2</td>\n",
              "      <td>{'lng': -48.05498915846707, 'lat': -15.8381445...</td>\n",
              "      <td>180</td>\n",
              "      <td>[{'id': 'a6328fb4dc0654eb28a996a270b0f6e4', 'p...</td>\n",
              "    </tr>\n",
              "  </tbody>\n",
              "</table>\n",
              "</div>\n",
              "      <button class=\"colab-df-convert\" onclick=\"convertToInteractive('df-22a3d9d1-bab7-4527-8553-77b9efe3dd4d')\"\n",
              "              title=\"Convert this dataframe to an interactive table.\"\n",
              "              style=\"display:none;\">\n",
              "        \n",
              "  <svg xmlns=\"http://www.w3.org/2000/svg\" height=\"24px\"viewBox=\"0 0 24 24\"\n",
              "       width=\"24px\">\n",
              "    <path d=\"M0 0h24v24H0V0z\" fill=\"none\"/>\n",
              "    <path d=\"M18.56 5.44l.94 2.06.94-2.06 2.06-.94-2.06-.94-.94-2.06-.94 2.06-2.06.94zm-11 1L8.5 8.5l.94-2.06 2.06-.94-2.06-.94L8.5 2.5l-.94 2.06-2.06.94zm10 10l.94 2.06.94-2.06 2.06-.94-2.06-.94-.94-2.06-.94 2.06-2.06.94z\"/><path d=\"M17.41 7.96l-1.37-1.37c-.4-.4-.92-.59-1.43-.59-.52 0-1.04.2-1.43.59L10.3 9.45l-7.72 7.72c-.78.78-.78 2.05 0 2.83L4 21.41c.39.39.9.59 1.41.59.51 0 1.02-.2 1.41-.59l7.78-7.78 2.81-2.81c.8-.78.8-2.07 0-2.86zM5.41 20L4 18.59l7.72-7.72 1.47 1.35L5.41 20z\"/>\n",
              "  </svg>\n",
              "      </button>\n",
              "      \n",
              "  <style>\n",
              "    .colab-df-container {\n",
              "      display:flex;\n",
              "      flex-wrap:wrap;\n",
              "      gap: 12px;\n",
              "    }\n",
              "\n",
              "    .colab-df-convert {\n",
              "      background-color: #E8F0FE;\n",
              "      border: none;\n",
              "      border-radius: 50%;\n",
              "      cursor: pointer;\n",
              "      display: none;\n",
              "      fill: #1967D2;\n",
              "      height: 32px;\n",
              "      padding: 0 0 0 0;\n",
              "      width: 32px;\n",
              "    }\n",
              "\n",
              "    .colab-df-convert:hover {\n",
              "      background-color: #E2EBFA;\n",
              "      box-shadow: 0px 1px 2px rgba(60, 64, 67, 0.3), 0px 1px 3px 1px rgba(60, 64, 67, 0.15);\n",
              "      fill: #174EA6;\n",
              "    }\n",
              "\n",
              "    [theme=dark] .colab-df-convert {\n",
              "      background-color: #3B4455;\n",
              "      fill: #D2E3FC;\n",
              "    }\n",
              "\n",
              "    [theme=dark] .colab-df-convert:hover {\n",
              "      background-color: #434B5C;\n",
              "      box-shadow: 0px 1px 3px 1px rgba(0, 0, 0, 0.15);\n",
              "      filter: drop-shadow(0px 1px 2px rgba(0, 0, 0, 0.3));\n",
              "      fill: #FFFFFF;\n",
              "    }\n",
              "  </style>\n",
              "\n",
              "      <script>\n",
              "        const buttonEl =\n",
              "          document.querySelector('#df-22a3d9d1-bab7-4527-8553-77b9efe3dd4d button.colab-df-convert');\n",
              "        buttonEl.style.display =\n",
              "          google.colab.kernel.accessAllowed ? 'block' : 'none';\n",
              "\n",
              "        async function convertToInteractive(key) {\n",
              "          const element = document.querySelector('#df-22a3d9d1-bab7-4527-8553-77b9efe3dd4d');\n",
              "          const dataTable =\n",
              "            await google.colab.kernel.invokeFunction('convertToInteractive',\n",
              "                                                     [key], {});\n",
              "          if (!dataTable) return;\n",
              "\n",
              "          const docLinkHtml = 'Like what you see? Visit the ' +\n",
              "            '<a target=\"_blank\" href=https://colab.research.google.com/notebooks/data_table.ipynb>data table notebook</a>'\n",
              "            + ' to learn more about interactive tables.';\n",
              "          element.innerHTML = '';\n",
              "          dataTable['output_type'] = 'display_data';\n",
              "          await google.colab.output.renderOutput(dataTable, element);\n",
              "          const docLink = document.createElement('div');\n",
              "          docLink.innerHTML = docLinkHtml;\n",
              "          element.appendChild(docLink);\n",
              "        }\n",
              "      </script>\n",
              "    </div>\n",
              "  </div>\n",
              "  "
            ]
          },
          "metadata": {},
          "execution_count": 34
        }
      ]
    },
    {
      "cell_type": "markdown",
      "source": [
        "Verifica uma lista na coluna(origin) para que seja demonstrado o começo da entrega."
      ],
      "metadata": {
        "id": "VQap_xGTXTYg"
      }
    },
    {
      "cell_type": "code",
      "source": [
        "hub_origin_df = pd.json_normalize(deliveries_df[\"origin\"])\n",
        "hub_origin_df.head()"
      ],
      "metadata": {
        "id": "fUpAEMxqXYKr"
      },
      "execution_count": null,
      "outputs": []
    },
    {
      "cell_type": "markdown",
      "source": [
        "Combinando os dados em um conjunto principal"
      ],
      "metadata": {
        "id": "lagd1qM0XbsI"
      }
    },
    {
      "cell_type": "code",
      "source": [
        "deliveries_df = pd.merge(left=deliveries_df, right=hub_origin_df, how='inner', left_index=True, right_index=True)\n",
        "deliveries_df.head()"
      ],
      "metadata": {
        "id": "o-mtMzNHXelB"
      },
      "execution_count": null,
      "outputs": []
    },
    {
      "cell_type": "code",
      "source": [
        "deliveries_df = deliveries_df.drop(\"origin\", axis=1)\n",
        "deliveries_df = deliveries_df[[\"name\", \"region\", \"lng\", \"lat\", \"vehicle_capacity\", \"deliveries\"]]\n",
        "deliveries_df.head()"
      ],
      "metadata": {
        "id": "uo88NNzJXkMR"
      },
      "execution_count": null,
      "outputs": []
    },
    {
      "cell_type": "markdown",
      "source": [
        "A coluna das deliveries sera apresentada em uma unica coluna."
      ],
      "metadata": {
        "id": "V9-eaenFXlDn"
      }
    },
    {
      "cell_type": "code",
      "source": [
        "deliveries_exploded_df = deliveries_df[[\"deliveries\"]].explode(\"deliveries\")\n",
        "deliveries_exploded_df.head()"
      ],
      "metadata": {
        "id": "ABWAqf3eXnMn"
      },
      "execution_count": null,
      "outputs": []
    },
    {
      "cell_type": "markdown",
      "source": [
        "Renomearemos as colunas para posicionarmos a coluna deliveries o inicio do processo atraves da saida e o termino com a entrega"
      ],
      "metadata": {
        "id": "z8TSl5fqXrTo"
      }
    },
    {
      "cell_type": "code",
      "source": [
        "deliveries_normalized_df = pd.concat([\n",
        "  pd.DataFrame(deliveries_exploded_df[\"deliveries\"].apply(lambda record: record[\"point\"][\"lng\"])).rename(columns={\"deliveries\": \"delivery_lng\"}),\n",
        "  pd.DataFrame(deliveries_exploded_df[\"deliveries\"].apply(lambda record: record[\"point\"][\"lat\"])).rename(columns={\"deliveries\": \"delivery_lat\"}),\n",
        "  pd.DataFrame(deliveries_exploded_df[\"deliveries\"].apply(lambda record: record[\"size\"])).rename(columns={\"deliveries\": \"delivery_size\"}),\n",
        "], axis= 1)\n",
        "deliveries_normalized_df.head()"
      ],
      "metadata": {
        "id": "QK971ilQXvJ7"
      },
      "execution_count": null,
      "outputs": []
    },
    {
      "cell_type": "code",
      "source": [
        "len(deliveries_exploded_df)"
      ],
      "metadata": {
        "colab": {
          "base_uri": "https://localhost:8080/"
        },
        "id": "6mYkKOHvXzT4",
        "outputId": "19de4f2c-9f19-4d2f-c773-084dcc2df13f"
      },
      "execution_count": null,
      "outputs": [
        {
          "output_type": "execute_result",
          "data": {
            "text/plain": [
              "636149"
            ]
          },
          "metadata": {},
          "execution_count": 40
        }
      ]
    },
    {
      "cell_type": "code",
      "source": [
        "len(deliveries_df)"
      ],
      "metadata": {
        "id": "I3EhdaDeXz2_"
      },
      "execution_count": null,
      "outputs": []
    },
    {
      "cell_type": "markdown",
      "source": [
        "Organizando os dados para ter uma visaõ geral com as informações tratadas e excluindo a coluna sem formatação deliveries"
      ],
      "metadata": {
        "id": "73T7xnrGX4N8"
      }
    },
    {
      "cell_type": "code",
      "source": [
        "deliveries_df = deliveries_df.drop(\"deliveries\", axis=1)\n",
        "deliveries_df = pd.merge(left=deliveries_df, right=deliveries_normalized_df, how='right', left_index=True, right_index=True)\n",
        "deliveries_df.reset_index(inplace=True, drop=True)\n",
        "deliveries_df.head()"
      ],
      "metadata": {
        "id": "PJZMD394X46w"
      },
      "execution_count": null,
      "outputs": []
    },
    {
      "cell_type": "code",
      "source": [
        "len(deliveries_df)"
      ],
      "metadata": {
        "id": "GVK-S6b0X8u6"
      },
      "execution_count": null,
      "outputs": []
    },
    {
      "cell_type": "markdown",
      "source": [
        "Schema"
      ],
      "metadata": {
        "id": "0hd1bH3JX9Ww"
      }
    },
    {
      "cell_type": "code",
      "source": [
        "deliveries_df.head(n=5)"
      ],
      "metadata": {
        "id": "x2JTVI15X_NK"
      },
      "execution_count": null,
      "outputs": []
    },
    {
      "cell_type": "markdown",
      "source": [
        "Colunas e seus respectivos tipos de dados."
      ],
      "metadata": {
        "id": "umTEpGKSYFeI"
      }
    },
    {
      "cell_type": "code",
      "source": [
        "deliveries_df.dtypes"
      ],
      "metadata": {
        "id": "O90Qy4uJYHMd"
      },
      "execution_count": null,
      "outputs": []
    },
    {
      "cell_type": "markdown",
      "source": [
        "Atributos categóricos."
      ],
      "metadata": {
        "id": "BSuVUOwWYMao"
      }
    },
    {
      "cell_type": "code",
      "source": [
        "deliveries_df.select_dtypes(\"object\").describe().transpose()"
      ],
      "metadata": {
        "id": "HzKK11s3YJq4"
      },
      "execution_count": null,
      "outputs": []
    },
    {
      "cell_type": "markdown",
      "source": [
        "Atributos numéricos."
      ],
      "metadata": {
        "id": "FStp7LmVYPqj"
      }
    },
    {
      "cell_type": "code",
      "source": [
        "deliveries_df.drop([\"name\", \"region\"], axis=1).select_dtypes('int64').describe().transpose()"
      ],
      "metadata": {
        "id": "oQ1dIwdKYRkp"
      },
      "execution_count": null,
      "outputs": []
    },
    {
      "cell_type": "markdown",
      "source": [
        "4.Manipulação"
      ],
      "metadata": {
        "id": "bEarylN6asM8"
      }
    },
    {
      "cell_type": "code",
      "source": [
        "[\n",
        "  {\n",
        "    \"name\": \"cvrp-0-df-0\",\n",
        "    \"region\": \"df-0\",\n",
        "    \"origin\": {\"lng\": -47.802664728268745, \"lat\": -15.657013854445248},\n",
        "    \"vehicle_capacity\": 180,\n",
        "    \"deliveries\": [\n",
        "      {\n",
        "        \"id\": \"ed0993f8cc70d998342f38ee827176dc\",\n",
        "        \"point\": {\"lng\": -47.7496622016347, \"lat\": -15.65879313293694},\n",
        "        \"size\": 10\n",
        "      },\n",
        "      {\n",
        "        \"id\": \"c7220154adc7a3def8f0b2b8a42677a9\",\n",
        "        \"point\": {\"lng\": -47.75887552060412, \"lat\": -15.651440380492554},\n",
        "        \"size\": 10\n",
        "      },\n",
        "      ...\n",
        "    ]\n",
        "  }\n",
        "]\n",
        "..."
      ],
      "metadata": {
        "colab": {
          "base_uri": "https://localhost:8080/"
        },
        "id": "UMVreONcaxaJ",
        "outputId": "fbd133df-7c79-4e5d-e9c1-9c1c77c7b5c7"
      },
      "execution_count": null,
      "outputs": [
        {
          "output_type": "execute_result",
          "data": {
            "text/plain": [
              "Ellipsis"
            ]
          },
          "metadata": {},
          "execution_count": 48
        }
      ]
    },
    {
      "cell_type": "markdown",
      "source": [
        "O dado bruto que será analisado e processado atraves do DataFrame Pandas."
      ],
      "metadata": {
        "id": "vtF436DvbR2p"
      }
    },
    {
      "cell_type": "code",
      "source": [
        "!wget -q \"https://raw.githubusercontent.com/andre-marcos-perez/ebac-course-utils/main/dataset/deliveries.json\" -O deliveries.json "
      ],
      "metadata": {
        "id": "yHAqf2ZwbFmA"
      },
      "execution_count": null,
      "outputs": []
    },
    {
      "cell_type": "code",
      "source": [
        "import json\n",
        "\n",
        "import pandas as pd\n",
        "\n",
        "with open('deliveries.json', mode='r', encoding='utf8') as file:\n",
        "  data = json.load(file)\n",
        "\n",
        "\n",
        "deliveries_df = pd.DataFrame(data)\n",
        "\n",
        "\n",
        "hub_origin_df = pd.json_normalize(deliveries_df[\"origin\"])\n",
        "\n",
        "deliveries_df = pd.merge(left=deliveries_df, right=hub_origin_df, how='inner', left_index=True, right_index=True)\n",
        "deliveries_df = deliveries_df.drop(\"origin\", axis=1)\n",
        "deliveries_df = deliveries_df[[\"name\", \"region\", \"lng\", \"lat\", \"vehicle_capacity\", \"deliveries\"]]\n",
        "deliveries_df.rename(columns={\"lng\": \"hub_lng\", \"lat\": \"hub_lat\"}, inplace=True)\n",
        "\n",
        "\n",
        "deliveries_exploded_df = deliveries_df[[\"deliveries\"]].explode(\"deliveries\")\n",
        "\n",
        "deliveries_normalized_df = pd.concat([\n",
        "  pd.DataFrame(deliveries_exploded_df[\"deliveries\"].apply(lambda record: record[\"size\"])).rename(columns={\"deliveries\": \"delivery_size\"}),\n",
        "  pd.DataFrame(deliveries_exploded_df[\"deliveries\"].apply(lambda record: record[\"point\"][\"lng\"])).rename(columns={\"deliveries\": \"delivery_lng\"}),\n",
        "  pd.DataFrame(deliveries_exploded_df[\"deliveries\"].apply(lambda record: record[\"point\"][\"lat\"])).rename(columns={\"deliveries\": \"delivery_lat\"}),\n",
        "], axis= 1)\n",
        "\n",
        "deliveries_df = deliveries_df.drop(\"deliveries\", axis=1)\n",
        "deliveries_df = pd.merge(left=deliveries_df, right=deliveries_normalized_df, how='right', left_index=True, right_index=True)\n",
        "deliveries_df.reset_index(inplace=True, drop=True)"
      ],
      "metadata": {
        "id": "nwEYTEtlbGen"
      },
      "execution_count": null,
      "outputs": []
    },
    {
      "cell_type": "code",
      "source": [
        "deliveries_df.head()"
      ],
      "metadata": {
        "id": "BEus-OQZcEMZ"
      },
      "execution_count": null,
      "outputs": []
    },
    {
      "cell_type": "markdown",
      "source": [
        "4.1. Enriquecimento"
      ],
      "metadata": {
        "id": "8U5LeXxIcE4D"
      }
    },
    {
      "cell_type": "markdown",
      "source": [
        "A codificação através da geocadificação para transformar a localização em uma visualização descrita por um texto."
      ],
      "metadata": {
        "id": "jbGwadmHcIyn"
      }
    },
    {
      "cell_type": "code",
      "source": [
        "hub_df = deliveries_df[[\"region\", \"hub_lng\", \"hub_lat\"]]\n",
        "hub_df = hub_df.drop_duplicates().sort_values(by=\"region\").reset_index(drop=True)\n",
        "hub_df.head()"
      ],
      "metadata": {
        "id": "hmnOt7RJeci8"
      },
      "execution_count": null,
      "outputs": []
    },
    {
      "cell_type": "markdown",
      "source": [
        "Usaremos geopy para fazer a operação reversa e enriquecer o nosso DataFrame principal."
      ],
      "metadata": {
        "id": "cNGSKLoBeynb"
      }
    },
    {
      "cell_type": "code",
      "source": [
        "import json\n",
        "\n",
        "import geopy\n",
        "from geopy.geocoders import Nominatim\n",
        "\n",
        "geolocator = Nominatim(user_agent=\"ebac_geocoder\")\n",
        "location = geolocator.reverse(\"-15.657013854445248, -47.802664728268745\")\n",
        "\n",
        "print(json.dumps(location.raw, indent=2, ensure_ascii=False))"
      ],
      "metadata": {
        "id": "RrAf4jy0e67p"
      },
      "execution_count": null,
      "outputs": []
    },
    {
      "cell_type": "markdown",
      "source": [
        "Com as coordenadas será extraido as informações de cidade e bairro."
      ],
      "metadata": {
        "id": "KMcXzBwkf3Qo"
      }
    },
    {
      "cell_type": "code",
      "source": [
        "from geopy.extra.rate_limiter import RateLimiter\n",
        "\n",
        "geocoder = RateLimiter(geolocator.reverse, min_delay_seconds=1)"
      ],
      "metadata": {
        "id": "LgQs60y1e-NF"
      },
      "execution_count": null,
      "outputs": []
    },
    {
      "cell_type": "code",
      "source": [
        "hub_df[\"coordinates\"] = hub_df[\"hub_lat\"].astype(str)  + \", \" + hub_df[\"hub_lng\"].astype(str) \n",
        "hub_df[\"geodata\"] = hub_df[\"coordinates\"].apply(geocoder)\n",
        "hub_df.head()"
      ],
      "metadata": {
        "id": "ktTjHHMIfAY2"
      },
      "execution_count": null,
      "outputs": []
    },
    {
      "cell_type": "code",
      "source": [
        "hub_geodata_df = pd.json_normalize(hub_df[\"geodata\"].apply(lambda data: data.raw))\n",
        "hub_geodata_df.head()"
      ],
      "metadata": {
        "id": "dwn6lqAJfCkX"
      },
      "execution_count": null,
      "outputs": []
    },
    {
      "cell_type": "code",
      "source": [
        "import numpy as np\n",
        "\n",
        "hub_geodata_df = hub_geodata_df[[\"address.town\", \"address.suburb\", \"address.city\"]]\n",
        "hub_geodata_df.rename(columns={\"address.town\": \"hub_town\", \"address.suburb\": \"hub_suburb\", \"address.city\": \"hub_city\"}, inplace=True)\n",
        "hub_geodata_df[\"hub_city\"] = np.where(hub_geodata_df[\"hub_city\"].notna(), hub_geodata_df[\"hub_city\"], hub_geodata_df[\"hub_town\"])\n",
        "hub_geodata_df[\"hub_suburb\"] = np.where(hub_geodata_df[\"hub_suburb\"].notna(), hub_geodata_df[\"hub_suburb\"], hub_geodata_df[\"hub_city\"])\n",
        "hub_geodata_df = hub_geodata_df.drop(\"hub_town\", axis=1)\n",
        "hub_geodata_df.head()"
      ],
      "metadata": {
        "id": "-CZLOsSDfu-_"
      },
      "execution_count": null,
      "outputs": []
    },
    {
      "cell_type": "markdown",
      "source": [
        "Vamos enriquecer os dados, com as informações de cidade e bairro em um DataFrame principal."
      ],
      "metadata": {
        "id": "A7D1HKu6gRaG"
      }
    },
    {
      "cell_type": "code",
      "source": [
        "hub_df = pd.merge(left=hub_df, right=hub_geodata_df, left_index=True, right_index=True)\n",
        "hub_df = hub_df[[\"region\", \"hub_suburb\", \"hub_city\"]]\n",
        "hub_df.head()"
      ],
      "metadata": {
        "id": "4CHoj14SgwtY"
      },
      "execution_count": null,
      "outputs": []
    },
    {
      "cell_type": "code",
      "source": [
        "deliveries_df = pd.merge(left=deliveries_df, right=hub_df, how=\"inner\", on=\"region\")\n",
        "deliveries_df = deliveries_df[[\"name\", \"region\", \"hub_lng\", \"hub_lat\", \"hub_city\", \"hub_suburb\", \"vehicle_capacity\", \"delivery_size\", \"delivery_lng\", \"delivery_lat\"]]\n",
        "deliveries_df.head()"
      ],
      "metadata": {
        "id": "Qb1Pfcqmg1PO"
      },
      "execution_count": null,
      "outputs": []
    },
    {
      "cell_type": "markdown",
      "source": [
        "Geocodificação reversa da entrega"
      ],
      "metadata": {
        "id": "rg72pl2Fg6CO"
      }
    },
    {
      "cell_type": "code",
      "source": [
        "!wget -q \"https://raw.githubusercontent.com/andre-marcos-perez/ebac-course-utils/main/dataset/deliveries-geodata.csv\" -O deliveries-geodata.csv"
      ],
      "metadata": {
        "id": "y4iXT2M6iySd"
      },
      "execution_count": null,
      "outputs": []
    },
    {
      "cell_type": "code",
      "source": [
        "deliveries_geodata_df = pd.read_csv(\"deliveries-geodata.csv\")\n",
        "deliveries_geodata_df.head()"
      ],
      "metadata": {
        "id": "ONFWBA9pi3G1"
      },
      "execution_count": null,
      "outputs": []
    },
    {
      "cell_type": "code",
      "source": [
        "deliveries_df = pd.merge(left=deliveries_df, right=deliveries_geodata_df[[\"delivery_city\", \"delivery_suburb\"]], how=\"inner\", left_index=True, right_index=True)\n",
        "deliveries_df.head()"
      ],
      "metadata": {
        "id": "4aloRIoZi5K2"
      },
      "execution_count": null,
      "outputs": []
    },
    {
      "cell_type": "markdown",
      "source": [
        "4.2 Qualidade"
      ],
      "metadata": {
        "id": "jPiZKmxZi6-t"
      }
    },
    {
      "cell_type": "code",
      "source": [
        "deliveries_df.info()"
      ],
      "metadata": {
        "id": "_m-h8Q8XjAI_"
      },
      "execution_count": null,
      "outputs": []
    },
    {
      "cell_type": "code",
      "source": [
        "deliveries_df.isna().any()"
      ],
      "metadata": {
        "id": "xCxt4KNejDBm"
      },
      "execution_count": null,
      "outputs": []
    },
    {
      "cell_type": "markdown",
      "source": [
        "Geocodificação reversa"
      ],
      "metadata": {
        "id": "3k_ta2L8jE2N"
      }
    },
    {
      "cell_type": "code",
      "source": [
        "100 * (deliveries_df[\"delivery_city\"].isna().sum() / len(deliveries_df))"
      ],
      "metadata": {
        "id": "LrV7cNPSjHQh"
      },
      "execution_count": null,
      "outputs": []
    },
    {
      "cell_type": "code",
      "source": [
        "100 * (deliveries_df[\"delivery_suburb\"].isna().sum() / len(deliveries_df))"
      ],
      "metadata": {
        "id": "OW9Q1lyfjKt9"
      },
      "execution_count": null,
      "outputs": []
    },
    {
      "cell_type": "code",
      "source": [
        "prop_df = deliveries_df[[\"delivery_city\"]].value_counts() / len(deliveries_df)\n",
        "prop_df.sort_values(ascending=False).head(10)"
      ],
      "metadata": {
        "id": "tab8x7JXjMeo"
      },
      "execution_count": null,
      "outputs": []
    },
    {
      "cell_type": "code",
      "source": [
        "prop_df = deliveries_df[[\"delivery_suburb\"]].value_counts() / len(deliveries_df)\n",
        "prop_df.sort_values(ascending=False).head(10)"
      ],
      "metadata": {
        "id": "knlhFBq6jRcZ"
      },
      "execution_count": null,
      "outputs": []
    },
    {
      "cell_type": "markdown",
      "source": [
        "5. Visualização"
      ],
      "metadata": {
        "id": "Og2raSlFjTq-"
      }
    },
    {
      "cell_type": "code",
      "source": [
        "!pip3 install geopandas;"
      ],
      "metadata": {
        "colab": {
          "base_uri": "https://localhost:8080/"
        },
        "id": "BOjtcTK3jXJn",
        "outputId": "1490c654-4e2f-4d30-d9b6-ee26162ef8e5"
      },
      "execution_count": null,
      "outputs": [
        {
          "output_type": "stream",
          "name": "stdout",
          "text": [
            "Looking in indexes: https://pypi.org/simple, https://us-python.pkg.dev/colab-wheels/public/simple/\n",
            "Collecting geopandas\n",
            "  Downloading geopandas-0.12.2-py3-none-any.whl (1.1 MB)\n",
            "\u001b[2K     \u001b[90m━━━━━━━━━━━━━━━━━━━━━━━━━━━━━━━━━━━━━━━━\u001b[0m \u001b[32m1.1/1.1 MB\u001b[0m \u001b[31m21.4 MB/s\u001b[0m eta \u001b[36m0:00:00\u001b[0m\n",
            "\u001b[?25hRequirement already satisfied: pandas>=1.0.0 in /usr/local/lib/python3.8/dist-packages (from geopandas) (1.3.5)\n",
            "Requirement already satisfied: packaging in /usr/local/lib/python3.8/dist-packages (from geopandas) (21.3)\n",
            "Collecting fiona>=1.8\n",
            "  Downloading Fiona-1.8.22-cp38-cp38-manylinux_2_17_x86_64.manylinux2014_x86_64.whl (16.6 MB)\n",
            "\u001b[2K     \u001b[90m━━━━━━━━━━━━━━━━━━━━━━━━━━━━━━━━━━━━━━━━\u001b[0m \u001b[32m16.6/16.6 MB\u001b[0m \u001b[31m68.2 MB/s\u001b[0m eta \u001b[36m0:00:00\u001b[0m\n",
            "\u001b[?25hCollecting pyproj>=2.6.1.post1\n",
            "  Downloading pyproj-3.4.1-cp38-cp38-manylinux_2_17_x86_64.manylinux2014_x86_64.whl (7.8 MB)\n",
            "\u001b[2K     \u001b[90m━━━━━━━━━━━━━━━━━━━━━━━━━━━━━━━━━━━━━━━━\u001b[0m \u001b[32m7.8/7.8 MB\u001b[0m \u001b[31m60.1 MB/s\u001b[0m eta \u001b[36m0:00:00\u001b[0m\n",
            "\u001b[?25hRequirement already satisfied: shapely>=1.7 in /usr/local/lib/python3.8/dist-packages (from geopandas) (2.0.0)\n",
            "Collecting munch\n",
            "  Downloading munch-2.5.0-py2.py3-none-any.whl (10 kB)\n",
            "Requirement already satisfied: certifi in /usr/local/lib/python3.8/dist-packages (from fiona>=1.8->geopandas) (2022.12.7)\n",
            "Collecting click-plugins>=1.0\n",
            "  Downloading click_plugins-1.1.1-py2.py3-none-any.whl (7.5 kB)\n",
            "Requirement already satisfied: click>=4.0 in /usr/local/lib/python3.8/dist-packages (from fiona>=1.8->geopandas) (7.1.2)\n",
            "Collecting cligj>=0.5\n",
            "  Downloading cligj-0.7.2-py3-none-any.whl (7.1 kB)\n",
            "Requirement already satisfied: six>=1.7 in /usr/local/lib/python3.8/dist-packages (from fiona>=1.8->geopandas) (1.15.0)\n",
            "Requirement already satisfied: setuptools in /usr/local/lib/python3.8/dist-packages (from fiona>=1.8->geopandas) (57.4.0)\n",
            "Requirement already satisfied: attrs>=17 in /usr/local/lib/python3.8/dist-packages (from fiona>=1.8->geopandas) (22.2.0)\n",
            "Requirement already satisfied: python-dateutil>=2.7.3 in /usr/local/lib/python3.8/dist-packages (from pandas>=1.0.0->geopandas) (2.8.2)\n",
            "Requirement already satisfied: numpy>=1.17.3 in /usr/local/lib/python3.8/dist-packages (from pandas>=1.0.0->geopandas) (1.21.6)\n",
            "Requirement already satisfied: pytz>=2017.3 in /usr/local/lib/python3.8/dist-packages (from pandas>=1.0.0->geopandas) (2022.7)\n",
            "Requirement already satisfied: pyparsing!=3.0.5,>=2.0.2 in /usr/local/lib/python3.8/dist-packages (from packaging->geopandas) (3.0.9)\n",
            "Installing collected packages: pyproj, munch, cligj, click-plugins, fiona, geopandas\n",
            "Successfully installed click-plugins-1.1.1 cligj-0.7.2 fiona-1.8.22 geopandas-0.12.2 munch-2.5.0 pyproj-3.4.1\n"
          ]
        }
      ]
    },
    {
      "cell_type": "code",
      "source": [
        "import geopandas"
      ],
      "metadata": {
        "id": "gKs575tbjod2"
      },
      "execution_count": null,
      "outputs": []
    },
    {
      "cell_type": "markdown",
      "source": [
        "Mapa de entregas no Distrito Federal, o download dos dados."
      ],
      "metadata": {
        "id": "swrCEhaojqpu"
      }
    },
    {
      "cell_type": "code",
      "source": [
        "!wget -q \"https://geoftp.ibge.gov.br/cartas_e_mapas/bases_cartograficas_continuas/bc100/go_df/versao2016/shapefile/bc100_go_df_shp.zip\" -O distrito-federal.zip\n",
        "!unzip -q distrito-federal.zip -d ./maps\n",
        "!cp ./maps/LIM_Unidade_Federacao_A.shp ./distrito-federal.shp\n",
        "!cp ./maps/LIM_Unidade_Federacao_A.shx ./distrito-federal.shx"
      ],
      "metadata": {
        "id": "0aAFi2qSjziV"
      },
      "execution_count": null,
      "outputs": []
    },
    {
      "cell_type": "code",
      "source": [
        "mapa = geopandas.read_file(\"distrito-federal.shp\")\n",
        "mapa = mapa.loc[[0]]\n",
        "mapa.head()"
      ],
      "metadata": {
        "id": "-P7v8KGAkAl9"
      },
      "execution_count": null,
      "outputs": []
    },
    {
      "cell_type": "markdown",
      "source": [
        "Criação do DataFrame"
      ],
      "metadata": {
        "id": "sr7EeHo1kMf6"
      }
    },
    {
      "cell_type": "code",
      "source": [
        "hub_df = deliveries_df[[\"region\", \"hub_lng\", \"hub_lat\"]].drop_duplicates().reset_index(drop=True)\n",
        "geo_hub_df = geopandas.GeoDataFrame(hub_df, geometry=geopandas.points_from_xy(hub_df[\"hub_lng\"], hub_df[\"hub_lat\"]))\n",
        "geo_hub_df.head()"
      ],
      "metadata": {
        "id": "hT1ZWUvdkCwm"
      },
      "execution_count": null,
      "outputs": []
    },
    {
      "cell_type": "code",
      "source": [
        "geo_deliveries_df = geopandas.GeoDataFrame(deliveries_df, geometry=geopandas.points_from_xy(deliveries_df[\"delivery_lng\"], deliveries_df[\"delivery_lat\"]))\n",
        "geo_deliveries_df.head()"
      ],
      "metadata": {
        "id": "zaqZM0_ZkIaq"
      },
      "execution_count": null,
      "outputs": []
    },
    {
      "cell_type": "code",
      "source": [
        "import matplotlib.pyplot as plt\n",
        "\n",
        "\n",
        "fig, ax = plt.subplots(figsize = (50/2.54, 50/2.54))\n",
        "\n",
        "\n",
        "mapa.plot(ax=ax, alpha=0.4, color=\"lightgrey\")\n",
        "\n",
        "\n",
        "geo_deliveries_df.query(\"region == 'df-0'\").plot(ax=ax, markersize=1, color=\"red\", label=\"df-0\")\n",
        "geo_deliveries_df.query(\"region == 'df-1'\").plot(ax=ax, markersize=1, color=\"blue\", label=\"df-1\")\n",
        "geo_deliveries_df.query(\"region == 'df-2'\").plot(ax=ax, markersize=1, color=\"seagreen\", label=\"df-2\")\n",
        "\n",
        "\n",
        "geo_hub_df.plot(ax=ax, markersize=30, marker=\"x\", color=\"black\", label=\"hub\")\n",
        "\n",
        "\n",
        "plt.title(\"Entregas no Distrito Federal por Região\", fontdict={\"fontsize\": 16})\n",
        "lgnd = plt.legend(prop={\"size\": 15})\n",
        "for handle in lgnd.legendHandles:\n",
        "    handle.set_sizes([50])"
      ],
      "metadata": {
        "id": "IfsUyW8TkeEX"
      },
      "execution_count": null,
      "outputs": []
    },
    {
      "cell_type": "code",
      "source": [
        "data = pd.DataFrame(deliveries_df[['region', 'vehicle_capacity']].value_counts(normalize=True)).reset_index()\n",
        "data.rename(columns={0: \"region_percent\"}, inplace=True)\n",
        "data.head()"
      ],
      "metadata": {
        "id": "NZu4Abnhl243"
      },
      "execution_count": null,
      "outputs": []
    },
    {
      "cell_type": "code",
      "source": [
        "import seaborn as sns\n",
        "\n",
        "with sns.axes_style('whitegrid'):\n",
        "  grafico = sns.barplot(data=data, x=\"region\", y=\"region_percent\",ci=None, palette=\"pastel\")\n",
        "  grafico.set(title='Proporção de entregas por região', xlabel='Região', ylabel='Proporção');"
      ],
      "metadata": {
        "colab": {
          "base_uri": "https://localhost:8080/",
          "height": 295
        },
        "id": "zWdl84AlkmGR",
        "outputId": "8ab37d0f-2ba8-49ca-9d09-fb6549cfb724"
      },
      "execution_count": null,
      "outputs": [
        {
          "output_type": "display_data",
          "data": {
            "text/plain": [
              "<Figure size 432x288 with 1 Axes>"
            ],
            "image/png": "[encoded data removed]"
          },
          "metadata": {}
        }
      ]
    },
    {
      "cell_type": "markdown",
      "source": [
        "Finalizamos o processo dos dados, podemos concluir através dos dois graficos:\n",
        "\n",
        "\n",
        "1º - Grafico - Analisamos que a capacidade de entrega em cada região, por estar espalhadas por todo o mapa. Ocorrerá alguns atrasos na entrega dos produtos ao cliente, isso poderá gerar algum tipo de aumento de demanda para outras entregas na mesma região.\n",
        "\n",
        "2º - Grafico - Mostra que a região df-1 as entregas são mais concetradas nessa região com isso se destaca entre as outras regiões com maior eficacia e eficiência nas estregas. \n",
        "\n"
      ],
      "metadata": {
        "id": "XodNO6SPmRmW"
      }
    }
  ]
}